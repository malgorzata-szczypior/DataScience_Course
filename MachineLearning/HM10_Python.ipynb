{
 "cells": [
  {
   "source": [
    "### Praca domowa nr 10\n",
    "\n",
    "Zadania początkowe (po 0%): \n",
    "\n",
    "1. Utwórz odpowiednią scieżkę i wczytaj plik `./dummy_data/data_continued/data.xls`\n",
    "\n",
    "2. Utwórz odpowiednią scieżkę i wczytaj plik `./dummy_data/data_continued/data_more_observations.xls`\n",
    "\n",
    "\n",
    "Zadania domowe (po 20%):\n",
    "\n",
    "3.Połącz dwie paczki danych w jeden dataframe (zadbaj o reset indexu)\n",
    "\n",
    "4.Sprawdź czy są i ile jest duplikatów z uwagi na pole id (powtarzające się wpisy o tych samych użytkownikach)\n",
    "\n",
    "5.Usuń duplikaty zostawiając późniejsze wpisy (!) (nowe obserwacje są aktualniejsze)\n",
    "\n",
    "6.Utwórz odpowiednią scieżkę i wczytaj plik ./dummy_data/data_continued/data_more_features.xls\n",
    "\n",
    "7.Dodaj nowe kolumny do wcześniejszego dataframe'a względem kolumny id. Upewnij się, że zostały te id dla których mamy wszystkie cechy (żadnych NaNów)\n",
    "\n",
    "8.Policz ile razy występują poszczególne wartości param_2\n",
    "\n"
   ],
   "cell_type": "markdown",
   "metadata": {}
  },
  {
   "cell_type": "code",
   "execution_count": 9,
   "metadata": {},
   "outputs": [],
   "source": [
    "import os\n",
    "import pandas as pd\n",
    "import numpy as np\n",
    "import matplotlib.pyplot as plt"
   ]
  },
  {
   "cell_type": "code",
   "execution_count": 15,
   "metadata": {},
   "outputs": [],
   "source": [
    "file_name=\"data.xls\"\n",
    "file_path = os.path.join(os.path.abspath(\"\"),  file_name)\n",
    "file_name1=\"data_more_observations.xls\"\n",
    "file_path1 = os.path.join(os.path.abspath(\"\"), file_name1)"
   ]
  },
  {
   "source": [
    "file_name=\"data.xls\"\n",
    "file_path = os.path.join(os.path.abspath(\"\"), \"dummy_data/data_continued\", file_name)\n",
    "file_name1=\"data_more_observations.xls\"\n",
    "file_path1 = os.path.join(os.path.abspath(\"\"), \"dummy_data/data_continued\", file_name1)"
   ],
   "cell_type": "code",
   "metadata": {},
   "execution_count": null,
   "outputs": []
  },
  {
   "cell_type": "code",
   "execution_count": 17,
   "metadata": {},
   "outputs": [
    {
     "output_type": "stream",
     "name": "stdout",
     "text": [
      "<class 'pandas.core.frame.DataFrame'>\nRangeIndex: 2000 entries, 0 to 1999\nData columns (total 4 columns):\n #   Column   Non-Null Count  Dtype  \n---  ------   --------------  -----  \n 0   id       2000 non-null   int64  \n 1   param_1  2000 non-null   float64\n 2   param_2  2000 non-null   int64  \n 3   param_3  2000 non-null   int64  \ndtypes: float64(1), int64(3)\nmemory usage: 62.6 KB\n"
     ]
    }
   ],
   "source": [
    "data=pd.read_excel(file_path)\n",
    "data_c=pd.read_excel(file_path1)\n",
    "df=pd.concat([data,data_c]).reset_index(drop=True)\n",
    "df.info()"
   ]
  },
  {
   "cell_type": "code",
   "execution_count": 25,
   "metadata": {},
   "outputs": [
    {
     "output_type": "stream",
     "name": "stdout",
     "text": [
      "liczba duplikatów: 24\nliczba unikalnych wierszy: 1976\n"
     ]
    }
   ],
   "source": [
    "print(\"liczba duplikatów:\",2000-df.id.nunique())\n",
    "df=df.drop_duplicates(subset=['id'], keep='last').reset_index(drop=True)\n",
    "print(\"liczba unikalnych wierszy:\",df.id.nunique())"
   ]
  },
  {
   "cell_type": "code",
   "execution_count": 28,
   "metadata": {},
   "outputs": [
    {
     "output_type": "execute_result",
     "data": {
      "text/plain": [
       "    id   param_1  param_2  param_3\n",
       "0  191  0.025364       60       54\n",
       "1  192  0.919820       37       34\n",
       "2  193  0.936136       12       18\n",
       "3  194  0.588972       91       23\n",
       "4  195  0.742186       31       58"
      ],
      "text/html": "<div>\n<style scoped>\n    .dataframe tbody tr th:only-of-type {\n        vertical-align: middle;\n    }\n\n    .dataframe tbody tr th {\n        vertical-align: top;\n    }\n\n    .dataframe thead th {\n        text-align: right;\n    }\n</style>\n<table border=\"1\" class=\"dataframe\">\n  <thead>\n    <tr style=\"text-align: right;\">\n      <th></th>\n      <th>id</th>\n      <th>param_1</th>\n      <th>param_2</th>\n      <th>param_3</th>\n    </tr>\n  </thead>\n  <tbody>\n    <tr>\n      <th>0</th>\n      <td>191</td>\n      <td>0.025364</td>\n      <td>60</td>\n      <td>54</td>\n    </tr>\n    <tr>\n      <th>1</th>\n      <td>192</td>\n      <td>0.919820</td>\n      <td>37</td>\n      <td>34</td>\n    </tr>\n    <tr>\n      <th>2</th>\n      <td>193</td>\n      <td>0.936136</td>\n      <td>12</td>\n      <td>18</td>\n    </tr>\n    <tr>\n      <th>3</th>\n      <td>194</td>\n      <td>0.588972</td>\n      <td>91</td>\n      <td>23</td>\n    </tr>\n    <tr>\n      <th>4</th>\n      <td>195</td>\n      <td>0.742186</td>\n      <td>31</td>\n      <td>58</td>\n    </tr>\n  </tbody>\n</table>\n</div>"
     },
     "metadata": {},
     "execution_count": 28
    }
   ],
   "source": [
    "file_name2=\"data_more_features.xls\"\n",
    "file_path2 = os.path.join(os.path.abspath(\"\"),  file_name2)\n",
    "data_more=pd.read_excel(file_path2)\n",
    "df.head()"
   ]
  },
  {
   "cell_type": "code",
   "execution_count": 29,
   "metadata": {},
   "outputs": [
    {
     "output_type": "execute_result",
     "data": {
      "text/plain": [
       "    id   param_1  param_2  param_3    param_4   param_5\n",
       "0  193  0.936136       12       18  11.233635  0.276612\n",
       "1  194  0.588972       91       23  53.596458  0.805812\n",
       "2  195  0.742186       31       58  23.007770  0.121802\n",
       "3  196  0.505780       84       51  42.485540  0.396856\n",
       "4  197  0.135994        5       66   0.679971  0.158063"
      ],
      "text/html": "<div>\n<style scoped>\n    .dataframe tbody tr th:only-of-type {\n        vertical-align: middle;\n    }\n\n    .dataframe tbody tr th {\n        vertical-align: top;\n    }\n\n    .dataframe thead th {\n        text-align: right;\n    }\n</style>\n<table border=\"1\" class=\"dataframe\">\n  <thead>\n    <tr style=\"text-align: right;\">\n      <th></th>\n      <th>id</th>\n      <th>param_1</th>\n      <th>param_2</th>\n      <th>param_3</th>\n      <th>param_4</th>\n      <th>param_5</th>\n    </tr>\n  </thead>\n  <tbody>\n    <tr>\n      <th>0</th>\n      <td>193</td>\n      <td>0.936136</td>\n      <td>12</td>\n      <td>18</td>\n      <td>11.233635</td>\n      <td>0.276612</td>\n    </tr>\n    <tr>\n      <th>1</th>\n      <td>194</td>\n      <td>0.588972</td>\n      <td>91</td>\n      <td>23</td>\n      <td>53.596458</td>\n      <td>0.805812</td>\n    </tr>\n    <tr>\n      <th>2</th>\n      <td>195</td>\n      <td>0.742186</td>\n      <td>31</td>\n      <td>58</td>\n      <td>23.007770</td>\n      <td>0.121802</td>\n    </tr>\n    <tr>\n      <th>3</th>\n      <td>196</td>\n      <td>0.505780</td>\n      <td>84</td>\n      <td>51</td>\n      <td>42.485540</td>\n      <td>0.396856</td>\n    </tr>\n    <tr>\n      <th>4</th>\n      <td>197</td>\n      <td>0.135994</td>\n      <td>5</td>\n      <td>66</td>\n      <td>0.679971</td>\n      <td>0.158063</td>\n    </tr>\n  </tbody>\n</table>\n</div>"
     },
     "metadata": {},
     "execution_count": 29
    }
   ],
   "source": [
    "df_full=pd.merge(df,data_more, on=\"id\", how=\"inner\")\n",
    "df_full.head()"
   ]
  },
  {
   "cell_type": "code",
   "execution_count": 30,
   "metadata": {},
   "outputs": [
    {
     "output_type": "execute_result",
     "data": {
      "text/plain": [
       "0"
      ]
     },
     "metadata": {},
     "execution_count": 30
    }
   ],
   "source": [
    "df_full.isnull().sum().sum()"
   ]
  },
  {
   "cell_type": "code",
   "execution_count": 33,
   "metadata": {},
   "outputs": [
    {
     "output_type": "execute_result",
     "data": {
      "text/plain": [
       "param_2  1    2    3    4    5    6    7    8    9    10   ...  91   92   93   \\\n",
       "id        14   32   16   19   24   27   20   19   17   19  ...   28   14   18   \n",
       "\n",
       "param_2  94   95   96   97   98   99   100  \n",
       "id        18   16    9   22   23   15   23  \n",
       "\n",
       "[1 rows x 100 columns]"
      ],
      "text/html": "<div>\n<style scoped>\n    .dataframe tbody tr th:only-of-type {\n        vertical-align: middle;\n    }\n\n    .dataframe tbody tr th {\n        vertical-align: top;\n    }\n\n    .dataframe thead th {\n        text-align: right;\n    }\n</style>\n<table border=\"1\" class=\"dataframe\">\n  <thead>\n    <tr style=\"text-align: right;\">\n      <th>param_2</th>\n      <th>1</th>\n      <th>2</th>\n      <th>3</th>\n      <th>4</th>\n      <th>5</th>\n      <th>6</th>\n      <th>7</th>\n      <th>8</th>\n      <th>9</th>\n      <th>10</th>\n      <th>...</th>\n      <th>91</th>\n      <th>92</th>\n      <th>93</th>\n      <th>94</th>\n      <th>95</th>\n      <th>96</th>\n      <th>97</th>\n      <th>98</th>\n      <th>99</th>\n      <th>100</th>\n    </tr>\n  </thead>\n  <tbody>\n    <tr>\n      <th>id</th>\n      <td>14</td>\n      <td>32</td>\n      <td>16</td>\n      <td>19</td>\n      <td>24</td>\n      <td>27</td>\n      <td>20</td>\n      <td>19</td>\n      <td>17</td>\n      <td>19</td>\n      <td>...</td>\n      <td>28</td>\n      <td>14</td>\n      <td>18</td>\n      <td>18</td>\n      <td>16</td>\n      <td>9</td>\n      <td>22</td>\n      <td>23</td>\n      <td>15</td>\n      <td>23</td>\n    </tr>\n  </tbody>\n</table>\n<p>1 rows × 100 columns</p>\n</div>"
     },
     "metadata": {},
     "execution_count": 33
    }
   ],
   "source": [
    "df_full[['param_2','id']].groupby(['param_2']).count().T"
   ]
  }
 ],
 "metadata": {
  "kernelspec": {
   "name": "python383jvsc74a57bd00062e047125ebb5108b603169bc21de4af15d4941600a121f270f5b23dba400b",
   "display_name": "Python 3.8.3 64-bit ('base': conda)"
  },
  "language_info": {
   "codemirror_mode": {
    "name": "ipython",
    "version": 3
   },
   "file_extension": ".py",
   "mimetype": "text/x-python",
   "name": "python",
   "nbconvert_exporter": "python",
   "pygments_lexer": "ipython3",
   "version": "3.8.3-final"
  }
 },
 "nbformat": 4,
 "nbformat_minor": 4
}